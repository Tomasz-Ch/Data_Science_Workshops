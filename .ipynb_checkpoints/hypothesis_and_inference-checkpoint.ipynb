{
 "cells": [
  {
   "cell_type": "code",
   "execution_count": 40,
   "metadata": {},
   "outputs": [
    {
     "data": {
      "text/plain": [
       "(5.0, 1.5811388300841898)"
      ]
     },
     "execution_count": 40,
     "metadata": {},
     "output_type": "execute_result"
    }
   ],
   "source": [
    "import math\n",
    "def normal_approximation_to_binominal(n, p):\n",
    "    \"\"\"Określa wartości mi i sigma\"\"\"\n",
    "    mi = p * n\n",
    "    sigma = math.sqrt(p * (1 - p) * n)\n",
    "    return mi, sigma\n",
    "normal_approximation_to_binominal(10, 0.5)"
   ]
  },
  {
   "cell_type": "code",
   "execution_count": 41,
   "metadata": {},
   "outputs": [
    {
     "data": {
      "text/plain": [
       "0.30853753872598694"
      ]
     },
     "execution_count": 41,
     "metadata": {},
     "output_type": "execute_result"
    }
   ],
   "source": [
    "\"\"\"Funkcja dystrybuanty rozkładu normalnego określa prawdopodobieństwo tego, \n",
    "że zmienna znajduje się poniżej wartości progowej\"\"\"\n",
    "import import_ipynb\n",
    "from probability import normal_cdf\n",
    "normal_probability_below = normal_cdf\n",
    "normal_probability_below(-0.5)"
   ]
  },
  {
   "cell_type": "code",
   "execution_count": 42,
   "metadata": {},
   "outputs": [
    {
     "data": {
      "text/plain": [
       "0.691462461274013"
      ]
     },
     "execution_count": 42,
     "metadata": {},
     "output_type": "execute_result"
    }
   ],
   "source": [
    "\"\"\" Jeżeli nie znajduje się nad wartością progową, to znajduje się pod nią\"\"\"\n",
    "def normal_probability_above(lo, mi=0, sigma=1):\n",
    "    return 1 - normal_cdf(lo, mi, sigma)\n",
    "normal_probability_above(-0.5)\n"
   ]
  },
  {
   "cell_type": "code",
   "execution_count": 43,
   "metadata": {},
   "outputs": [
    {
     "data": {
      "text/plain": [
       "0.38292492254802607"
      ]
     },
     "execution_count": 43,
     "metadata": {},
     "output_type": "execute_result"
    }
   ],
   "source": [
    "\"\"\"Wartość znajduje się w przedziale, jesli jest mniejsza od górnej wartości ranicznej \n",
    "i większa od dolnej wartości granicznej\"\"\"\n",
    "def normal_probability_between(lo, hi, mi=0, sigma=1):\n",
    "    return normal_cdf(hi, mi, sigma) - normal_cdf(lo, mi, sigma)\n",
    "normal_probability_between(-0.5, 0.5)"
   ]
  },
  {
   "cell_type": "code",
   "execution_count": 44,
   "metadata": {},
   "outputs": [
    {
     "data": {
      "text/plain": [
       "0.617075077451974"
      ]
     },
     "execution_count": 44,
     "metadata": {},
     "output_type": "execute_result"
    }
   ],
   "source": [
    "\"\"\"Wartość jest poza przedziałem, jeśli nie znajduje się pomiędzy ograniczeniami\"\"\"\n",
    "def normal_probability_outside(lo, hi, mi=0, sigma=1):\n",
    "    return 1 - normal_probability_between(lo, hi, mi, sigma)\n",
    "normal_probability_outside(-0.5, 0.5)"
   ]
  },
  {
   "cell_type": "markdown",
   "metadata": {},
   "source": [
    "### Szukanie interwału przy założonym prawdopodobieństwie"
   ]
  },
  {
   "cell_type": "code",
   "execution_count": 45,
   "metadata": {},
   "outputs": [
    {
     "data": {
      "text/plain": [
       "-0.5015277862548828"
      ]
     },
     "execution_count": 45,
     "metadata": {},
     "output_type": "execute_result"
    }
   ],
   "source": [
    "from probability import inverse_normal_cdf\n",
    "def normal_upper_bound(probability, mi=0, sigma=1):\n",
    "    \"\"\"Zwraca przy zachowaniu warunku P(Z<=z) = prawdopodobieństwo\"\"\"\n",
    "    return inverse_normal_cdf(probability, mi, sigma)\n",
    "normal_upper_bound(0.308)"
   ]
  },
  {
   "cell_type": "code",
   "execution_count": 46,
   "metadata": {},
   "outputs": [
    {
     "data": {
      "text/plain": [
       "-0.5015277862548828"
      ]
     },
     "execution_count": 46,
     "metadata": {},
     "output_type": "execute_result"
    }
   ],
   "source": [
    "def normal_lower_bound(probability, mi=0, sigma=1):\n",
    "    \"\"\"Zwraca przy zachowaniu warunku P(Z>=z) = prawdopodobieństwo\"\"\"\n",
    "    return inverse_normal_cdf(1 - probability, mi, sigma)\n",
    "normal_upper_bound(0.308) # funkcja zwraca błędną wartość dla (1-p)"
   ]
  },
  {
   "cell_type": "code",
   "execution_count": 47,
   "metadata": {},
   "outputs": [
    {
     "data": {
      "text/plain": [
       "(-0.5228710174560547, 0.5228710174560547)"
      ]
     },
     "execution_count": 47,
     "metadata": {},
     "output_type": "execute_result"
    }
   ],
   "source": [
    "def normal_two_sided_bounds(probability, mi=0, sigma=1):\n",
    "    \"\"\"Zrwaca granice symetryczne (umieszczone wokół śrdniej), które obejmują określone prawdopodobieństwo\"\"\"\n",
    "    tail_probability = (1 - probability) / 2\n",
    "    \n",
    "    # Nad górną granicą powinna znaleźć się wartość tail_probability\n",
    "    upper_bound = normal_lower_bound(tail_probability, mi, sigma)\n",
    "    \n",
    "    # Pod dolną granicą powinna znajdować się wartość tail_probability\n",
    "    lower_bound = normal_upper_bound(tail_probability, mi, sigma)\n",
    "    \n",
    "    return lower_bound, upper_bound\n",
    "    \n",
    "norma_two_sided_bounds(0.398942280)"
   ]
  },
  {
   "cell_type": "code",
   "execution_count": 48,
   "metadata": {},
   "outputs": [],
   "source": [
    "mi_0, sigma_0 = normal_approximation_to_binominal(1000, 0.5)"
   ]
  },
  {
   "cell_type": "code",
   "execution_count": 49,
   "metadata": {},
   "outputs": [
    {
     "data": {
      "text/plain": [
       "(469.01026640487555, 530.9897335951244)"
      ]
     },
     "execution_count": 49,
     "metadata": {},
     "output_type": "execute_result"
    }
   ],
   "source": [
    "normal_two_sided_bounds(0.95, mi_0, sigma_0) # (469, 531)"
   ]
  },
  {
   "cell_type": "markdown",
   "metadata": {},
   "source": [
    "### moc testu"
   ]
  },
  {
   "cell_type": "code",
   "execution_count": 52,
   "metadata": {},
   "outputs": [
    {
     "data": {
      "text/plain": [
       "(-1.9599628448486328, 1.9599628448486328)"
      ]
     },
     "execution_count": 52,
     "metadata": {},
     "output_type": "execute_result"
    }
   ],
   "source": [
    "\"\"\"Ograniczenie 95% na podstawie założenia, że p=0.5\"\"\"\n",
    "lo, hi = normal_two_sided_bounds(0.95, mi_0, sigma_0)\n",
    "normal_two_sided_bounds(0.95)"
   ]
  },
  {
   "cell_type": "code",
   "execution_count": 39,
   "metadata": {},
   "outputs": [
    {
     "data": {
      "text/plain": [
       "(550.0, 15.732132722552274)"
      ]
     },
     "execution_count": 39,
     "metadata": {},
     "output_type": "execute_result"
    }
   ],
   "source": [
    "\"\"\"Rzeczywiste wartości mi i sigma przy założeniu, że p=0.55\"\"\"\n",
    "mi_1, sigma_1 = normal_approximation_to_binominal(1000, 0.55)\n",
    "normal_approximation_to_binominal(1000, 0.55)"
   ]
  },
  {
   "cell_type": "code",
   "execution_count": 57,
   "metadata": {},
   "outputs": [],
   "source": [
    "\"\"\"Błąd typu drugiego oznacza błąd polegający na nieodrzycieniu hipotezy zerowej, \n",
    "do czego dochodzi, gdy X wciąż znajdue się w naszym początkowym interwale\"\"\"\n",
    "type_2_probability = normal_probability_between(lo, hi, mi_1, sigma_1)\n",
    "power = 1 - type_2_probability # 0,887"
   ]
  },
  {
   "cell_type": "code",
   "execution_count": 58,
   "metadata": {},
   "outputs": [
    {
     "data": {
      "text/plain": [
       "0.11345199870463285"
      ]
     },
     "execution_count": 58,
     "metadata": {},
     "output_type": "execute_result"
    }
   ],
   "source": [
    "type_2_probability"
   ]
  },
  {
   "cell_type": "code",
   "execution_count": 59,
   "metadata": {},
   "outputs": [
    {
     "data": {
      "text/plain": [
       "0.8865480012953671"
      ]
     },
     "execution_count": 59,
     "metadata": {},
     "output_type": "execute_result"
    }
   ],
   "source": [
    "power"
   ]
  },
  {
   "cell_type": "code",
   "execution_count": 62,
   "metadata": {},
   "outputs": [
    {
     "data": {
      "text/plain": [
       "526.0073585242053"
      ]
     },
     "execution_count": 62,
     "metadata": {},
     "output_type": "execute_result"
    }
   ],
   "source": [
    "hi = normal_upper_bound(0.95, mi_0, sigma_0)\n",
    "hi # Wynosi 526 (<531, ponieważ potrzebujemy więcej prawdopodobieństwa w górnej części)"
   ]
  },
  {
   "cell_type": "code",
   "execution_count": 63,
   "metadata": {},
   "outputs": [
    {
     "data": {
      "text/plain": [
       "0.9363794803307173"
      ]
     },
     "execution_count": 63,
     "metadata": {},
     "output_type": "execute_result"
    }
   ],
   "source": [
    "type_2_probability = normal_probability_below(hi, mi_1, sigma_1)\n",
    "power = 1 - type_2_probability \n",
    "power # 0.936"
   ]
  },
  {
   "cell_type": "markdown",
   "metadata": {},
   "source": [
    "### wartość p"
   ]
  },
  {
   "cell_type": "code",
   "execution_count": 64,
   "metadata": {},
   "outputs": [],
   "source": [
    "def two_sides_p_value(x, mi=0, sigma=1):\n",
    "    if x >= mi:\n",
    "        # Jeżeli x jest większe od średniej...\n",
    "        return 2 * normal_probability_above(x, mi, sigma)\n",
    "    else:\n",
    "        # Jeżeli x jest mniejsze od średniej...\n",
    "        return 2 * normal_probability_below(x, mi, sigma)"
   ]
  },
  {
   "cell_type": "code",
   "execution_count": 66,
   "metadata": {},
   "outputs": [
    {
     "data": {
      "text/plain": [
       "0.06207721579598835"
      ]
     },
     "execution_count": 66,
     "metadata": {},
     "output_type": "execute_result"
    }
   ],
   "source": [
    "two_sides_p_value(529.5, mi_0, sigma_0) # 0,062\n",
    "# 529.5 to korekta ciągłości dla 530 rzutów monetą"
   ]
  },
  {
   "cell_type": "code",
   "execution_count": 67,
   "metadata": {},
   "outputs": [],
   "source": [
    "def run_experiment():\n",
    "    \"\"\"flip a fair coin 1000 times, True = heads, False = tails\"\"\"\n",
    "    return [random.random() < 0.5 for _ in range(1000)]"
   ]
  },
  {
   "cell_type": "code",
   "execution_count": 68,
   "metadata": {},
   "outputs": [],
   "source": [
    "def reject_fairness(experiment):\n",
    "    \"\"\"using the 5% significance levels\"\"\"\n",
    "    num_heads = len([flip for flip in experiment if flip])\n",
    "    return num_heads < 469 or num_heads > 531"
   ]
  },
  {
   "cell_type": "markdown",
   "metadata": {},
   "source": [
    "#### (więcej przykładów w książce...)"
   ]
  },
  {
   "cell_type": "code",
   "execution_count": null,
   "metadata": {},
   "outputs": [],
   "source": []
  }
 ],
 "metadata": {
  "kernelspec": {
   "display_name": "Python 3",
   "language": "python",
   "name": "python3"
  },
  "language_info": {
   "codemirror_mode": {
    "name": "ipython",
    "version": 3
   },
   "file_extension": ".py",
   "mimetype": "text/x-python",
   "name": "python",
   "nbconvert_exporter": "python",
   "pygments_lexer": "ipython3",
   "version": "3.7.3"
  }
 },
 "nbformat": 4,
 "nbformat_minor": 2
}
