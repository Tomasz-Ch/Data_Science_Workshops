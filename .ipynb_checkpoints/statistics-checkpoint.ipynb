{
 "cells": [
  {
   "cell_type": "markdown",
   "metadata": {},
   "source": [
    "# Miary tendencji centralnej"
   ]
  },
  {
   "cell_type": "code",
   "execution_count": 7,
   "metadata": {},
   "outputs": [],
   "source": [
    "num_friends = [100,49,41,40,25,21,21,19,19,18,18,16,15,15,15,15,14,14,13,13,13,13,12,12,11,10,10,10,10,10,10,10,10,10,10,10,10,10,10,10,9,9,9,9,9,9,9,9,9,9,9,9,9,9,9,9,9,9,8,8,8,8,8,8,8,8,8,8,8,8,8,7,7,7,7,7,7,7,7,7,7,7,7,7,7,7,6,6,6,6,6,6,6,6,6,6,6,6,6,6,6,6,6,6,6,6,6,6,5,5,5,5,5,5,5,5,5,5,5,5,5,5,5,5,5,4,4,4,4,4,4,4,4,4,4,4,4,4,4,4,4,4,4,4,4,3,3,3,3,3,3,3,3,3,3,3,3,3,3,3,3,3,3,3,3,2,2,2,2,2,2,2,2,2,2,2,2,2,2,2,2,2,1,1,1,1,1,1,1,1,1,1,1,1,1,1,1,1,1,1,1,1,1,1]"
   ]
  },
  {
   "cell_type": "code",
   "execution_count": 68,
   "metadata": {},
   "outputs": [
    {
     "data": {
      "text/plain": [
       "204"
      ]
     },
     "execution_count": 68,
     "metadata": {},
     "output_type": "execute_result"
    }
   ],
   "source": [
    "num_points = len(num_friends)\n",
    "num_points"
   ]
  },
  {
   "cell_type": "code",
   "execution_count": 147,
   "metadata": {},
   "outputs": [
    {
     "data": {
      "text/plain": [
       "Counter({100: 1,\n",
       "         49: 1,\n",
       "         41: 1,\n",
       "         40: 1,\n",
       "         25: 1,\n",
       "         21: 2,\n",
       "         19: 2,\n",
       "         18: 2,\n",
       "         16: 1,\n",
       "         15: 4,\n",
       "         14: 2,\n",
       "         13: 4,\n",
       "         12: 2,\n",
       "         11: 1,\n",
       "         10: 15,\n",
       "         9: 18,\n",
       "         8: 13,\n",
       "         7: 15,\n",
       "         6: 22,\n",
       "         5: 17,\n",
       "         4: 20,\n",
       "         3: 20,\n",
       "         2: 17,\n",
       "         1: 22})"
      ]
     },
     "execution_count": 147,
     "metadata": {},
     "output_type": "execute_result"
    }
   ],
   "source": [
    "from collections import Counter\n",
    "friends_counts = Counter(num_friends)\n",
    "friends_counts"
   ]
  },
  {
   "cell_type": "code",
   "execution_count": 63,
   "metadata": {},
   "outputs": [
    {
     "data": {
      "image/png": "[encoded data removed]",
      "text/plain": [
       "<Figure size 432x288 with 1 Axes>"
      ]
     },
     "metadata": {
      "needs_background": "light"
     },
     "output_type": "display_data"
    }
   ],
   "source": [
    "import matplotlib.pyplot as plt\n",
    "xs = ([x for x in friends_counts.keys()])\n",
    "ys = friends_counts.values()\n",
    "plt.bar(xs, ys, 0.5)\n",
    "plt.show()"
   ]
  },
  {
   "cell_type": "code",
   "execution_count": 67,
   "metadata": {},
   "outputs": [
    {
     "data": {
      "image/png": "[encoded data removed]",
      "text/plain": [
       "<Figure size 432x288 with 1 Axes>"
      ]
     },
     "metadata": {
      "needs_background": "light"
     },
     "output_type": "display_data"
    }
   ],
   "source": [
    "xs = range(101)\n",
    "ys = [friends_counts[x] for x in xs]\n",
    "plt.bar(xs, ys, 0.5)\n",
    "plt.axis([0, 101, 0, 25])\n",
    "plt.title('Histogram liczby znajomych')\n",
    "plt.xlabel('Liczba znajomych')\n",
    "plt.ylabel('Liczba użytkowników')\n",
    "plt.show()"
   ]
  },
  {
   "cell_type": "code",
   "execution_count": 70,
   "metadata": {},
   "outputs": [
    {
     "data": {
      "text/plain": [
       "100"
      ]
     },
     "execution_count": 70,
     "metadata": {},
     "output_type": "execute_result"
    }
   ],
   "source": [
    "largest_value = max(num_friends)\n",
    "largest_value"
   ]
  },
  {
   "cell_type": "code",
   "execution_count": 71,
   "metadata": {},
   "outputs": [
    {
     "data": {
      "text/plain": [
       "1"
      ]
     },
     "execution_count": 71,
     "metadata": {},
     "output_type": "execute_result"
    }
   ],
   "source": [
    "smallest_value = min(num_friends)\n",
    "smallest_value"
   ]
  },
  {
   "cell_type": "code",
   "execution_count": 78,
   "metadata": {},
   "outputs": [
    {
     "data": {
      "text/plain": [
       "[1, 1, 1, 1, 1]"
      ]
     },
     "execution_count": 78,
     "metadata": {},
     "output_type": "execute_result"
    }
   ],
   "source": [
    "sorted_values = sorted(num_friends)\n",
    "sorted_values[:5]"
   ]
  },
  {
   "cell_type": "code",
   "execution_count": 79,
   "metadata": {},
   "outputs": [
    {
     "data": {
      "text/plain": [
       "1"
      ]
     },
     "execution_count": 79,
     "metadata": {},
     "output_type": "execute_result"
    }
   ],
   "source": [
    "second_smallest_value = sorted_values[1]\n",
    "second_smallest_value"
   ]
  },
  {
   "cell_type": "code",
   "execution_count": 81,
   "metadata": {},
   "outputs": [
    {
     "data": {
      "text/plain": [
       "49"
      ]
     },
     "execution_count": 81,
     "metadata": {},
     "output_type": "execute_result"
    }
   ],
   "source": [
    "second_largest_value = sorted_values[-2]\n",
    "second_largest_value"
   ]
  },
  {
   "cell_type": "code",
   "execution_count": 92,
   "metadata": {},
   "outputs": [
    {
     "data": {
      "text/plain": [
       "7.333"
      ]
     },
     "execution_count": 92,
     "metadata": {},
     "output_type": "execute_result"
    }
   ],
   "source": [
    "def mean(x):\n",
    "    return sum(x)/len(x)\n",
    "round(mean(num_friends), 3)"
   ]
  },
  {
   "cell_type": "code",
   "execution_count": 128,
   "metadata": {},
   "outputs": [
    {
     "data": {
      "text/plain": [
       "6.0"
      ]
     },
     "execution_count": 128,
     "metadata": {},
     "output_type": "execute_result"
    }
   ],
   "source": [
    "def median(v):\n",
    "    '''Wartość środkowa wektora v'''\n",
    "    n = len(v)\n",
    "    sorted_v = sorted(v)\n",
    "    midpoint = n // 2\n",
    "    \n",
    "    if n % 2 == 1:\n",
    "        # W przypadku nieparzystej liczby obserwacji zwaraca wartość środkową\n",
    "        return sorted_v[midpoint]\n",
    "    else:\n",
    "        # W przypadku parzystej liczby obserwacji zwraca średnią wartości środkowych\n",
    "        lo = midpoint - 1\n",
    "        hi = midpoint\n",
    "        return (sorted_v[lo] + sorted_v[hi]) / 2\n",
    "    \n",
    "median(num_friends)"
   ]
  },
  {
   "cell_type": "code",
   "execution_count": 129,
   "metadata": {},
   "outputs": [
    {
     "data": {
      "text/plain": [
       "6"
      ]
     },
     "execution_count": 129,
     "metadata": {},
     "output_type": "execute_result"
    }
   ],
   "source": [
    "n = len(num_friends)\n",
    "midpoint = n // 2\n",
    "sorted(num_friends)[midpoint]"
   ]
  },
  {
   "cell_type": "code",
   "execution_count": 130,
   "metadata": {},
   "outputs": [
    {
     "data": {
      "text/plain": [
       "3"
      ]
     },
     "execution_count": 130,
     "metadata": {},
     "output_type": "execute_result"
    }
   ],
   "source": [
    "k = [1, 2, 3, 99, 100]\n",
    "m = len(k)\n",
    "midpoint = m // 2\n",
    "k[midpoint]\n",
    "# k[midpoint -1]"
   ]
  },
  {
   "cell_type": "code",
   "execution_count": 136,
   "metadata": {},
   "outputs": [
    {
     "data": {
      "text/plain": [
       "9"
      ]
     },
     "execution_count": 136,
     "metadata": {},
     "output_type": "execute_result"
    }
   ],
   "source": [
    "def quantile(x, p):\n",
    "    '''Zwraca p-tą wartość zbioru x'''\n",
    "    p_index = int(p * len(x))\n",
    "    return sorted(x)[p_index]\n",
    "quantile(num_friends, 0.75)"
   ]
  },
  {
   "cell_type": "code",
   "execution_count": 165,
   "metadata": {},
   "outputs": [
    {
     "data": {
      "text/plain": [
       "[6, 1]"
      ]
     },
     "execution_count": 165,
     "metadata": {},
     "output_type": "execute_result"
    }
   ],
   "source": [
    "from collections import Counter\n",
    "def mode(x):\n",
    "    '''Zwraca listę. Zbiór może zawierać więcej niż jedną dominantę'''\n",
    "    counts = Counter(x)\n",
    "    max_count = max(counts.values())\n",
    "    return [x_i for x_i, liczba_znajomych in counts.items()\n",
    "           if liczba_znajomych == max_count]\n",
    "mode(num_friends)"
   ]
  },
  {
   "cell_type": "code",
   "execution_count": 149,
   "metadata": {},
   "outputs": [
    {
     "data": {
      "text/plain": [
       "dict_items([(100, 1), (49, 1), (41, 1), (40, 1), (25, 1), (21, 2), (19, 2), (18, 2), (16, 1), (15, 4), (14, 2), (13, 4), (12, 2), (11, 1), (10, 15), (9, 18), (8, 13), (7, 15), (6, 22), (5, 17), (4, 20), (3, 20), (2, 17), (1, 22)])"
      ]
     },
     "execution_count": 149,
     "metadata": {},
     "output_type": "execute_result"
    }
   ],
   "source": [
    "friends_counts.items()"
   ]
  },
  {
   "cell_type": "code",
   "execution_count": 166,
   "metadata": {},
   "outputs": [
    {
     "data": {
      "text/plain": [
       "99"
      ]
     },
     "execution_count": 166,
     "metadata": {},
     "output_type": "execute_result"
    }
   ],
   "source": [
    "def data_range(x):\n",
    "    return max(x) - min(x)\n",
    "data_range(num_friends)"
   ]
  },
  {
   "cell_type": "code",
   "execution_count": 192,
   "metadata": {},
   "outputs": [
    {
     "data": {
      "text/plain": [
       "81.54351395730716"
      ]
     },
     "execution_count": 192,
     "metadata": {},
     "output_type": "execute_result"
    }
   ],
   "source": [
    "import import_ipynb\n",
    "from linear_algebra import sum_of_squares, dot\n",
    "def de_mean(x):\n",
    "    '''Przekształca x przez odjęcie od średniej arytmetycznej'''\n",
    "    x_bar = mean(x)\n",
    "    return [x_i - x_bar for x_i in x]\n",
    "# de_mean(num_friends)\n",
    "\n",
    "def variance(x):\n",
    "    '''Zakłada, że x ma przynajmniej dwa elementy'''\n",
    "    n = len(x)\n",
    "    deviations = de_mean(x)\n",
    "    return sum_of_squares(deviations) / (n - 1)\n",
    "variance(num_friends)"
   ]
  },
  {
   "cell_type": "code",
   "execution_count": 184,
   "metadata": {},
   "outputs": [
    {
     "data": {
      "text/plain": [
       "9.03014473623248"
      ]
     },
     "execution_count": 184,
     "metadata": {},
     "output_type": "execute_result"
    }
   ],
   "source": [
    "def standard_deviation(x):\n",
    "    return math.sqrt(variance(x))\n",
    "standard_deviation(num_friends)"
   ]
  },
  {
   "cell_type": "code",
   "execution_count": 185,
   "metadata": {
    "scrolled": true
   },
   "outputs": [
    {
     "data": {
      "text/plain": [
       "6"
      ]
     },
     "execution_count": 185,
     "metadata": {},
     "output_type": "execute_result"
    }
   ],
   "source": [
    "def interquartile_range(x):\n",
    "    '''Różnica wartości między 75. i 25. percentylem'''\n",
    "    return quantile(x, 0.75) - quantile(x, 0.25)\n",
    "interquartile_range(num_friends)"
   ]
  },
  {
   "cell_type": "markdown",
   "metadata": {},
   "source": [
    "# Kowariancja i wariancja"
   ]
  },
  {
   "cell_type": "code",
   "execution_count": 188,
   "metadata": {},
   "outputs": [],
   "source": [
    "daily_minutes = [1,68.77,51.25,52.08,38.36,44.54,57.13,51.4,41.42,31.22,34.76,54.01,38.79,47.59,49.1,27.66,41.03,36.73,48.65,28.12,46.62,35.57,32.98,35,26.07,23.77,39.73,40.57,31.65,31.21,36.32,20.45,21.93,26.02,27.34,23.49,46.94,30.5,33.8,24.23,21.4,27.94,32.24,40.57,25.07,19.42,22.39,18.42,46.96,23.72,26.41,26.97,36.76,40.32,35.02,29.47,30.2,31,38.11,38.18,36.31,21.03,30.86,36.07,28.66,29.08,37.28,15.28,24.17,22.31,30.17,25.53,19.85,35.37,44.6,17.23,13.47,26.33,35.02,32.09,24.81,19.33,28.77,24.26,31.98,25.73,24.86,16.28,34.51,15.23,39.72,40.8,26.06,35.76,34.76,16.13,44.04,18.03,19.65,32.62,35.59,39.43,14.18,35.24,40.13,41.82,35.45,36.07,43.67,24.61,20.9,21.9,18.79,27.61,27.21,26.61,29.77,20.59,27.53,13.82,33.2,25,33.1,36.65,18.63,14.87,22.2,36.81,25.53,24.62,26.25,18.21,28.08,19.42,29.79,32.8,35.99,28.32,27.79,35.88,29.06,36.28,14.1,36.63,37.49,26.9,18.58,38.48,24.48,18.95,33.55,14.24,29.04,32.51,25.63,22.22,19,32.73,15.16,13.9,27.2,32.01,29.27,33,13.74,20.42,27.32,18.23,35.35,28.48,9.08,24.62,20.12,35.26,19.92,31.02,16.49,12.16,30.7,31.22,34.65,13.13,27.51,33.2,31.57,14.1,33.42,17.44,10.12,24.42,9.82,23.39,30.93,15.03,21.67,31.09,33.29,22.61,26.89,23.48,8.38,27.81,32.35,23.84]"
   ]
  },
  {
   "cell_type": "code",
   "execution_count": 190,
   "metadata": {},
   "outputs": [
    {
     "data": {
      "text/plain": [
       "22.425435139573064"
      ]
     },
     "execution_count": 190,
     "metadata": {},
     "output_type": "execute_result"
    }
   ],
   "source": [
    "def covariance(x, y):\n",
    "    n = len(x)\n",
    "    return dot(de_mean(x), de_mean(y)) / (n-1)\n",
    "covariance(num_friends, daily_minutes)"
   ]
  },
  {
   "cell_type": "code",
   "execution_count": 195,
   "metadata": {},
   "outputs": [
    {
     "data": {
      "text/plain": [
       "0.24736957366478216"
      ]
     },
     "execution_count": 195,
     "metadata": {},
     "output_type": "execute_result"
    }
   ],
   "source": [
    "def correlation(x, y):\n",
    "    stdev_x = standard_deviation(x)\n",
    "    stdev_y = standard_deviation(y)\n",
    "    if stdev_x > 0 and stdev_y > 0:\n",
    "        return covariance(x, y) / (stdev_x * stdev_y)\n",
    "    else:\n",
    "        return 0 #Przy braku wariancji korelacja jest zerowa\n",
    "correlation(num_friends, daily_minutes)"
   ]
  },
  {
   "cell_type": "code",
   "execution_count": 204,
   "metadata": {},
   "outputs": [
    {
     "data": {
      "text/plain": [
       "0"
      ]
     },
     "execution_count": 204,
     "metadata": {},
     "output_type": "execute_result"
    }
   ],
   "source": [
    "outlier = num_friends.index(100)\n",
    "outlier"
   ]
  },
  {
   "cell_type": "code",
   "execution_count": 211,
   "metadata": {},
   "outputs": [
    {
     "data": {
      "text/plain": [
       "[(0, 100),\n",
       " (1, 49),\n",
       " (2, 41),\n",
       " (3, 40),\n",
       " (4, 25),\n",
       " (5, 21),\n",
       " (6, 21),\n",
       " (7, 19),\n",
       " (8, 19),\n",
       " (9, 18),\n",
       " (10, 18),\n",
       " (11, 16),\n",
       " (12, 15),\n",
       " (13, 15),\n",
       " (14, 15),\n",
       " (15, 15),\n",
       " (16, 14),\n",
       " (17, 14),\n",
       " (18, 13),\n",
       " (19, 13),\n",
       " (20, 13),\n",
       " (21, 13),\n",
       " (22, 12),\n",
       " (23, 12),\n",
       " (24, 11),\n",
       " (25, 10),\n",
       " (26, 10),\n",
       " (27, 10),\n",
       " (28, 10),\n",
       " (29, 10),\n",
       " (30, 10),\n",
       " (31, 10),\n",
       " (32, 10),\n",
       " (33, 10),\n",
       " (34, 10),\n",
       " (35, 10),\n",
       " (36, 10),\n",
       " (37, 10),\n",
       " (38, 10),\n",
       " (39, 10),\n",
       " (40, 9),\n",
       " (41, 9),\n",
       " (42, 9),\n",
       " (43, 9),\n",
       " (44, 9),\n",
       " (45, 9),\n",
       " (46, 9),\n",
       " (47, 9),\n",
       " (48, 9),\n",
       " (49, 9),\n",
       " (50, 9),\n",
       " (51, 9),\n",
       " (52, 9),\n",
       " (53, 9),\n",
       " (54, 9),\n",
       " (55, 9),\n",
       " (56, 9),\n",
       " (57, 9),\n",
       " (58, 8),\n",
       " (59, 8),\n",
       " (60, 8),\n",
       " (61, 8),\n",
       " (62, 8),\n",
       " (63, 8),\n",
       " (64, 8),\n",
       " (65, 8),\n",
       " (66, 8),\n",
       " (67, 8),\n",
       " (68, 8),\n",
       " (69, 8),\n",
       " (70, 8),\n",
       " (71, 7),\n",
       " (72, 7),\n",
       " (73, 7),\n",
       " (74, 7),\n",
       " (75, 7),\n",
       " (76, 7),\n",
       " (77, 7),\n",
       " (78, 7),\n",
       " (79, 7),\n",
       " (80, 7),\n",
       " (81, 7),\n",
       " (82, 7),\n",
       " (83, 7),\n",
       " (84, 7),\n",
       " (85, 7),\n",
       " (86, 6),\n",
       " (87, 6),\n",
       " (88, 6),\n",
       " (89, 6),\n",
       " (90, 6),\n",
       " (91, 6),\n",
       " (92, 6),\n",
       " (93, 6),\n",
       " (94, 6),\n",
       " (95, 6),\n",
       " (96, 6),\n",
       " (97, 6),\n",
       " (98, 6),\n",
       " (99, 6),\n",
       " (100, 6),\n",
       " (101, 6),\n",
       " (102, 6),\n",
       " (103, 6),\n",
       " (104, 6),\n",
       " (105, 6),\n",
       " (106, 6),\n",
       " (107, 6),\n",
       " (108, 5),\n",
       " (109, 5),\n",
       " (110, 5),\n",
       " (111, 5),\n",
       " (112, 5),\n",
       " (113, 5),\n",
       " (114, 5),\n",
       " (115, 5),\n",
       " (116, 5),\n",
       " (117, 5),\n",
       " (118, 5),\n",
       " (119, 5),\n",
       " (120, 5),\n",
       " (121, 5),\n",
       " (122, 5),\n",
       " (123, 5),\n",
       " (124, 5),\n",
       " (125, 4),\n",
       " (126, 4),\n",
       " (127, 4),\n",
       " (128, 4),\n",
       " (129, 4),\n",
       " (130, 4),\n",
       " (131, 4),\n",
       " (132, 4),\n",
       " (133, 4),\n",
       " (134, 4),\n",
       " (135, 4),\n",
       " (136, 4),\n",
       " (137, 4),\n",
       " (138, 4),\n",
       " (139, 4),\n",
       " (140, 4),\n",
       " (141, 4),\n",
       " (142, 4),\n",
       " (143, 4),\n",
       " (144, 4),\n",
       " (145, 3),\n",
       " (146, 3),\n",
       " (147, 3),\n",
       " (148, 3),\n",
       " (149, 3),\n",
       " (150, 3),\n",
       " (151, 3),\n",
       " (152, 3),\n",
       " (153, 3),\n",
       " (154, 3),\n",
       " (155, 3),\n",
       " (156, 3),\n",
       " (157, 3),\n",
       " (158, 3),\n",
       " (159, 3),\n",
       " (160, 3),\n",
       " (161, 3),\n",
       " (162, 3),\n",
       " (163, 3),\n",
       " (164, 3),\n",
       " (165, 2),\n",
       " (166, 2),\n",
       " (167, 2),\n",
       " (168, 2),\n",
       " (169, 2),\n",
       " (170, 2),\n",
       " (171, 2),\n",
       " (172, 2),\n",
       " (173, 2),\n",
       " (174, 2),\n",
       " (175, 2),\n",
       " (176, 2),\n",
       " (177, 2),\n",
       " (178, 2),\n",
       " (179, 2),\n",
       " (180, 2),\n",
       " (181, 2),\n",
       " (182, 1),\n",
       " (183, 1),\n",
       " (184, 1),\n",
       " (185, 1),\n",
       " (186, 1),\n",
       " (187, 1),\n",
       " (188, 1),\n",
       " (189, 1),\n",
       " (190, 1),\n",
       " (191, 1),\n",
       " (192, 1),\n",
       " (193, 1),\n",
       " (194, 1),\n",
       " (195, 1),\n",
       " (196, 1),\n",
       " (197, 1),\n",
       " (198, 1),\n",
       " (199, 1),\n",
       " (200, 1),\n",
       " (201, 1),\n",
       " (202, 1),\n",
       " (203, 1)]"
      ]
     },
     "execution_count": 211,
     "metadata": {},
     "output_type": "execute_result"
    }
   ],
   "source": [
    "list(enumerate(num_friends))"
   ]
  },
  {
   "cell_type": "code",
   "execution_count": 212,
   "metadata": {
    "scrolled": false
   },
   "outputs": [
    {
     "data": {
      "text/plain": [
       "[49,\n",
       " 41,\n",
       " 40,\n",
       " 25,\n",
       " 21,\n",
       " 21,\n",
       " 19,\n",
       " 19,\n",
       " 18,\n",
       " 18,\n",
       " 16,\n",
       " 15,\n",
       " 15,\n",
       " 15,\n",
       " 15,\n",
       " 14,\n",
       " 14,\n",
       " 13,\n",
       " 13,\n",
       " 13,\n",
       " 13,\n",
       " 12,\n",
       " 12,\n",
       " 11,\n",
       " 10,\n",
       " 10,\n",
       " 10,\n",
       " 10,\n",
       " 10,\n",
       " 10,\n",
       " 10,\n",
       " 10,\n",
       " 10,\n",
       " 10,\n",
       " 10,\n",
       " 10,\n",
       " 10,\n",
       " 10,\n",
       " 10,\n",
       " 9,\n",
       " 9,\n",
       " 9,\n",
       " 9,\n",
       " 9,\n",
       " 9,\n",
       " 9,\n",
       " 9,\n",
       " 9,\n",
       " 9,\n",
       " 9,\n",
       " 9,\n",
       " 9,\n",
       " 9,\n",
       " 9,\n",
       " 9,\n",
       " 9,\n",
       " 9,\n",
       " 8,\n",
       " 8,\n",
       " 8,\n",
       " 8,\n",
       " 8,\n",
       " 8,\n",
       " 8,\n",
       " 8,\n",
       " 8,\n",
       " 8,\n",
       " 8,\n",
       " 8,\n",
       " 8,\n",
       " 7,\n",
       " 7,\n",
       " 7,\n",
       " 7,\n",
       " 7,\n",
       " 7,\n",
       " 7,\n",
       " 7,\n",
       " 7,\n",
       " 7,\n",
       " 7,\n",
       " 7,\n",
       " 7,\n",
       " 7,\n",
       " 7,\n",
       " 6,\n",
       " 6,\n",
       " 6,\n",
       " 6,\n",
       " 6,\n",
       " 6,\n",
       " 6,\n",
       " 6,\n",
       " 6,\n",
       " 6,\n",
       " 6,\n",
       " 6,\n",
       " 6,\n",
       " 6,\n",
       " 6,\n",
       " 6,\n",
       " 6,\n",
       " 6,\n",
       " 6,\n",
       " 6,\n",
       " 6,\n",
       " 6,\n",
       " 5,\n",
       " 5,\n",
       " 5,\n",
       " 5,\n",
       " 5,\n",
       " 5,\n",
       " 5,\n",
       " 5,\n",
       " 5,\n",
       " 5,\n",
       " 5,\n",
       " 5,\n",
       " 5,\n",
       " 5,\n",
       " 5,\n",
       " 5,\n",
       " 5,\n",
       " 4,\n",
       " 4,\n",
       " 4,\n",
       " 4,\n",
       " 4,\n",
       " 4,\n",
       " 4,\n",
       " 4,\n",
       " 4,\n",
       " 4,\n",
       " 4,\n",
       " 4,\n",
       " 4,\n",
       " 4,\n",
       " 4,\n",
       " 4,\n",
       " 4,\n",
       " 4,\n",
       " 4,\n",
       " 4,\n",
       " 3,\n",
       " 3,\n",
       " 3,\n",
       " 3,\n",
       " 3,\n",
       " 3,\n",
       " 3,\n",
       " 3,\n",
       " 3,\n",
       " 3,\n",
       " 3,\n",
       " 3,\n",
       " 3,\n",
       " 3,\n",
       " 3,\n",
       " 3,\n",
       " 3,\n",
       " 3,\n",
       " 3,\n",
       " 3,\n",
       " 2,\n",
       " 2,\n",
       " 2,\n",
       " 2,\n",
       " 2,\n",
       " 2,\n",
       " 2,\n",
       " 2,\n",
       " 2,\n",
       " 2,\n",
       " 2,\n",
       " 2,\n",
       " 2,\n",
       " 2,\n",
       " 2,\n",
       " 2,\n",
       " 2,\n",
       " 1,\n",
       " 1,\n",
       " 1,\n",
       " 1,\n",
       " 1,\n",
       " 1,\n",
       " 1,\n",
       " 1,\n",
       " 1,\n",
       " 1,\n",
       " 1,\n",
       " 1,\n",
       " 1,\n",
       " 1,\n",
       " 1,\n",
       " 1,\n",
       " 1,\n",
       " 1,\n",
       " 1,\n",
       " 1,\n",
       " 1,\n",
       " 1]"
      ]
     },
     "execution_count": 212,
     "metadata": {},
     "output_type": "execute_result"
    }
   ],
   "source": [
    "num_friends_good = [x for i, x in enumerate(num_friends) if i != 0]\n",
    "num_friends_good"
   ]
  },
  {
   "cell_type": "code",
   "execution_count": 213,
   "metadata": {
    "scrolled": true
   },
   "outputs": [
    {
     "data": {
      "text/plain": [
       "[68.77,\n",
       " 51.25,\n",
       " 52.08,\n",
       " 38.36,\n",
       " 44.54,\n",
       " 57.13,\n",
       " 51.4,\n",
       " 41.42,\n",
       " 31.22,\n",
       " 34.76,\n",
       " 54.01,\n",
       " 38.79,\n",
       " 47.59,\n",
       " 49.1,\n",
       " 27.66,\n",
       " 41.03,\n",
       " 36.73,\n",
       " 48.65,\n",
       " 28.12,\n",
       " 46.62,\n",
       " 35.57,\n",
       " 32.98,\n",
       " 35,\n",
       " 26.07,\n",
       " 23.77,\n",
       " 39.73,\n",
       " 40.57,\n",
       " 31.65,\n",
       " 31.21,\n",
       " 36.32,\n",
       " 20.45,\n",
       " 21.93,\n",
       " 26.02,\n",
       " 27.34,\n",
       " 23.49,\n",
       " 46.94,\n",
       " 30.5,\n",
       " 33.8,\n",
       " 24.23,\n",
       " 21.4,\n",
       " 27.94,\n",
       " 32.24,\n",
       " 40.57,\n",
       " 25.07,\n",
       " 19.42,\n",
       " 22.39,\n",
       " 18.42,\n",
       " 46.96,\n",
       " 23.72,\n",
       " 26.41,\n",
       " 26.97,\n",
       " 36.76,\n",
       " 40.32,\n",
       " 35.02,\n",
       " 29.47,\n",
       " 30.2,\n",
       " 31,\n",
       " 38.11,\n",
       " 38.18,\n",
       " 36.31,\n",
       " 21.03,\n",
       " 30.86,\n",
       " 36.07,\n",
       " 28.66,\n",
       " 29.08,\n",
       " 37.28,\n",
       " 15.28,\n",
       " 24.17,\n",
       " 22.31,\n",
       " 30.17,\n",
       " 25.53,\n",
       " 19.85,\n",
       " 35.37,\n",
       " 44.6,\n",
       " 17.23,\n",
       " 13.47,\n",
       " 26.33,\n",
       " 35.02,\n",
       " 32.09,\n",
       " 24.81,\n",
       " 19.33,\n",
       " 28.77,\n",
       " 24.26,\n",
       " 31.98,\n",
       " 25.73,\n",
       " 24.86,\n",
       " 16.28,\n",
       " 34.51,\n",
       " 15.23,\n",
       " 39.72,\n",
       " 40.8,\n",
       " 26.06,\n",
       " 35.76,\n",
       " 34.76,\n",
       " 16.13,\n",
       " 44.04,\n",
       " 18.03,\n",
       " 19.65,\n",
       " 32.62,\n",
       " 35.59,\n",
       " 39.43,\n",
       " 14.18,\n",
       " 35.24,\n",
       " 40.13,\n",
       " 41.82,\n",
       " 35.45,\n",
       " 36.07,\n",
       " 43.67,\n",
       " 24.61,\n",
       " 20.9,\n",
       " 21.9,\n",
       " 18.79,\n",
       " 27.61,\n",
       " 27.21,\n",
       " 26.61,\n",
       " 29.77,\n",
       " 20.59,\n",
       " 27.53,\n",
       " 13.82,\n",
       " 33.2,\n",
       " 25,\n",
       " 33.1,\n",
       " 36.65,\n",
       " 18.63,\n",
       " 14.87,\n",
       " 22.2,\n",
       " 36.81,\n",
       " 25.53,\n",
       " 24.62,\n",
       " 26.25,\n",
       " 18.21,\n",
       " 28.08,\n",
       " 19.42,\n",
       " 29.79,\n",
       " 32.8,\n",
       " 35.99,\n",
       " 28.32,\n",
       " 27.79,\n",
       " 35.88,\n",
       " 29.06,\n",
       " 36.28,\n",
       " 14.1,\n",
       " 36.63,\n",
       " 37.49,\n",
       " 26.9,\n",
       " 18.58,\n",
       " 38.48,\n",
       " 24.48,\n",
       " 18.95,\n",
       " 33.55,\n",
       " 14.24,\n",
       " 29.04,\n",
       " 32.51,\n",
       " 25.63,\n",
       " 22.22,\n",
       " 19,\n",
       " 32.73,\n",
       " 15.16,\n",
       " 13.9,\n",
       " 27.2,\n",
       " 32.01,\n",
       " 29.27,\n",
       " 33,\n",
       " 13.74,\n",
       " 20.42,\n",
       " 27.32,\n",
       " 18.23,\n",
       " 35.35,\n",
       " 28.48,\n",
       " 9.08,\n",
       " 24.62,\n",
       " 20.12,\n",
       " 35.26,\n",
       " 19.92,\n",
       " 31.02,\n",
       " 16.49,\n",
       " 12.16,\n",
       " 30.7,\n",
       " 31.22,\n",
       " 34.65,\n",
       " 13.13,\n",
       " 27.51,\n",
       " 33.2,\n",
       " 31.57,\n",
       " 14.1,\n",
       " 33.42,\n",
       " 17.44,\n",
       " 10.12,\n",
       " 24.42,\n",
       " 9.82,\n",
       " 23.39,\n",
       " 30.93,\n",
       " 15.03,\n",
       " 21.67,\n",
       " 31.09,\n",
       " 33.29,\n",
       " 22.61,\n",
       " 26.89,\n",
       " 23.48,\n",
       " 8.38,\n",
       " 27.81,\n",
       " 32.35,\n",
       " 23.84]"
      ]
     },
     "execution_count": 213,
     "metadata": {},
     "output_type": "execute_result"
    }
   ],
   "source": [
    "daily_minutes_good = [x for i, x in enumerate(daily_minutes) if i != outlier]\n",
    "daily_minutes_good"
   ]
  },
  {
   "cell_type": "code",
   "execution_count": 217,
   "metadata": {},
   "outputs": [
    {
     "data": {
      "text/plain": [
       "0.5736792115665573"
      ]
     },
     "execution_count": 217,
     "metadata": {},
     "output_type": "execute_result"
    }
   ],
   "source": [
    "correlation(num_friends_good, daily_minutes_good)"
   ]
  },
  {
   "cell_type": "code",
   "execution_count": 218,
   "metadata": {},
   "outputs": [
    {
     "name": "stdout",
     "output_type": "stream",
     "text": [
      "num_points 204\n",
      "largest value 100\n",
      "smallest value 1\n",
      "second_smallest_value 1\n",
      "second_largest_value 49\n",
      "mean(num_friends) 7.333333333333333\n",
      "median(num_friends) 6.0\n",
      "quantile(num_friends, 0.10) 1\n",
      "quantile(num_friends, 0.25) 3\n",
      "quantile(num_friends, 0.75) 9\n",
      "quantile(num_friends, 0.90) 13\n",
      "mode(num_friends) [6, 1]\n",
      "data_range(num_friends) 99\n",
      "variance(num_friends) 81.54351395730716\n",
      "standard_deviation(num_friends) 9.03014473623248\n",
      "interquartile_range(num_friends) 6\n",
      "covariance(num_friends, daily_minutes) 22.425435139573064\n",
      "correlation(num_friends, daily_minutes) 0.24736957366478216\n",
      "correlation(num_friends_good, daily_minutes_good) 0.5736792115665573\n"
     ]
    }
   ],
   "source": [
    "if __name__ == \"__main__\":\n",
    "\n",
    "    print(\"num_points\", len(num_friends))\n",
    "    print(\"largest value\", max(num_friends))\n",
    "    print(\"smallest value\", min(num_friends))\n",
    "    print(\"second_smallest_value\", sorted_values[1])\n",
    "    print(\"second_largest_value\", sorted_values[-2]  )\n",
    "    print(\"mean(num_friends)\", mean(num_friends))\n",
    "    print(\"median(num_friends)\", median(num_friends))\n",
    "    print(\"quantile(num_friends, 0.10)\", quantile(num_friends, 0.10))\n",
    "    print(\"quantile(num_friends, 0.25)\", quantile(num_friends, 0.25))\n",
    "    print(\"quantile(num_friends, 0.75)\", quantile(num_friends, 0.75))\n",
    "    print(\"quantile(num_friends, 0.90)\", quantile(num_friends, 0.90))\n",
    "    print(\"mode(num_friends)\", mode(num_friends))\n",
    "    print(\"data_range(num_friends)\", data_range(num_friends))\n",
    "    print(\"variance(num_friends)\", variance(num_friends))\n",
    "    print(\"standard_deviation(num_friends)\", standard_deviation(num_friends))\n",
    "    print(\"interquartile_range(num_friends)\", interquartile_range(num_friends))\n",
    "\n",
    "    print(\"covariance(num_friends, daily_minutes)\", covariance(num_friends, daily_minutes))\n",
    "    print(\"correlation(num_friends, daily_minutes)\", correlation(num_friends, daily_minutes))\n",
    "    print(\"correlation(num_friends_good, daily_minutes_good)\", correlation(num_friends_good, daily_minutes_good))"
   ]
  }
 ],
 "metadata": {
  "kernelspec": {
   "display_name": "Python 3",
   "language": "python",
   "name": "python3"
  },
  "language_info": {
   "codemirror_mode": {
    "name": "ipython",
    "version": 3
   },
   "file_extension": ".py",
   "mimetype": "text/x-python",
   "name": "python",
   "nbconvert_exporter": "python",
   "pygments_lexer": "ipython3",
   "version": "3.7.3"
  }
 },
 "nbformat": 4,
 "nbformat_minor": 2
}
