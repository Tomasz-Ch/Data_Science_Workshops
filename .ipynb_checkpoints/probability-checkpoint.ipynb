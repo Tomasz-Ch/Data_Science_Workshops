{
 "cells": [
  {
   "cell_type": "markdown",
   "metadata": {},
   "source": [
    "# Prawdopodobieństwo"
   ]
  },
  {
   "cell_type": "code",
   "execution_count": 1,
   "metadata": {},
   "outputs": [
    {
     "data": {
      "text/plain": [
       "'girl'"
      ]
     },
     "execution_count": 1,
     "metadata": {},
     "output_type": "execute_result"
    }
   ],
   "source": [
    "import random\n",
    "def random_kid():\n",
    "    return random.choice([\"boy\", \"girl\"])\n",
    "random_kid()"
   ]
  },
  {
   "cell_type": "markdown",
   "metadata": {},
   "source": [
    "### rozład jednostajny"
   ]
  },
  {
   "cell_type": "code",
   "execution_count": 2,
   "metadata": {},
   "outputs": [
    {
     "data": {
      "text/plain": [
       "0"
      ]
     },
     "execution_count": 2,
     "metadata": {},
     "output_type": "execute_result"
    }
   ],
   "source": [
    "def uniform_pdf(x):\n",
    "    if x >= 0 and x < 1:\n",
    "        return 1\n",
    "    else:\n",
    "        return 0\n",
    "uniform_pdf(2)"
   ]
  },
  {
   "cell_type": "code",
   "execution_count": 3,
   "metadata": {},
   "outputs": [
    {
     "data": {
      "text/plain": [
       "0.5"
      ]
     },
     "execution_count": 3,
     "metadata": {},
     "output_type": "execute_result"
    }
   ],
   "source": [
    "def uniform_cdf(x):\n",
    "    \"\"\"Zwraca prawdopodobieństwo tego, że zmienna rozkładu jednostajnego jest <= 1\"\"\"\n",
    "    if x < 0: return 0\n",
    "    elif x < 1: return x\n",
    "    else: return 1\n",
    "uniform_cdf(0.5)"
   ]
  },
  {
   "cell_type": "markdown",
   "metadata": {},
   "source": [
    "### rozkład normalny"
   ]
  },
  {
   "cell_type": "code",
   "execution_count": 4,
   "metadata": {},
   "outputs": [
    {
     "data": {
      "text/plain": [
       "0.3989422804014327"
      ]
     },
     "execution_count": 4,
     "metadata": {},
     "output_type": "execute_result"
    }
   ],
   "source": [
    "import math\n",
    "def normal_pdf(x, mi=0, sigma=1):\n",
    "    sqrt_two_pi = math.sqrt(2 * math.pi)\n",
    "    return (math.exp(-(x-mi) ** 2 / 2 / sigma ** 2) / (sqrt_two_pi * sigma))\n",
    "normal_pdf(0)"
   ]
  },
  {
   "cell_type": "code",
   "execution_count": 5,
   "metadata": {},
   "outputs": [
    {
     "data": {
      "text/plain": [
       "<Figure size 640x480 with 1 Axes>"
      ]
     },
     "metadata": {},
     "output_type": "display_data"
    }
   ],
   "source": [
    "import matplotlib.pyplot as plt\n",
    "def plot_normal_pdfs(plt):\n",
    "    xs = [x / 10 for x in range(-100, 50)]\n",
    "    plt.plot(xs, [normal_pdf(x, sigma=1) for x in xs], '-', label='mi=0, sigma=1')\n",
    "    plt.plot(xs, [normal_pdf(x, sigma=2) for x in xs], '--', label='mi=0, sigma=2')\n",
    "    plt.plot(xs, [normal_pdf(x, sigma=0.5) for x in xs], ':', label='mi=0, sigma=0.5')\n",
    "    plt.plot(xs, [normal_pdf(x, mi=-1) for x in xs], '-.', label='mi=-1, sigma=1')\n",
    "    plt.legend()\n",
    "    plt.show()\n",
    "plot_normal_pdfs(plt)"
   ]
  },
  {
   "cell_type": "markdown",
   "metadata": {},
   "source": [
    "### dystrybuanta rozkładu normalnego"
   ]
  },
  {
   "cell_type": "code",
   "execution_count": 6,
   "metadata": {},
   "outputs": [
    {
     "data": {
      "text/plain": [
       "0.30853753872598694"
      ]
     },
     "execution_count": 6,
     "metadata": {},
     "output_type": "execute_result"
    }
   ],
   "source": [
    "def normal_cdf(x, mi=0, sigma=1):\n",
    "    return (1 + math.erf((x - mi) / math.sqrt(2) / sigma)) / 2\n",
    "normal_cdf(-0.5)"
   ]
  },
  {
   "cell_type": "code",
   "execution_count": 7,
   "metadata": {
    "scrolled": true
   },
   "outputs": [
    {
     "data": {
      "image/png": "[encoded data removed]",
      "text/plain": [
       "<Figure size 432x288 with 1 Axes>"
      ]
     },
     "metadata": {
      "needs_background": "light"
     },
     "output_type": "display_data"
    }
   ],
   "source": [
    "def plot_normal_cdfs(plt):\n",
    "    xs = [x / 10.0 for x in range(-100, 50)]\n",
    "    plt.plot(xs, [normal_cdf(x, sigma=1) for x in xs], '-', label='mi=0, sigma=1')\n",
    "    plt.plot(xs, [normal_cdf(x, sigma=2) for x in xs], '--', label='mi=0, sigma=2')\n",
    "    plt.plot(xs, [normal_cdf(x, sigma=0.5) for x in xs], ':', label='mi=0, sigma=0.5')\n",
    "    plt.plot(xs, [normal_cdf(x, mi=-1) for x in xs], '-.', label='mi=-1, sigma=1')\n",
    "    plt.legend(loc=2) # top left\n",
    "    plt.show()\n",
    "plot_normal_cdfs(plt)"
   ]
  },
  {
   "cell_type": "markdown",
   "metadata": {},
   "source": [
    "### odwrotność dystrybuanty rozkładu normalnego"
   ]
  },
  {
   "cell_type": "code",
   "execution_count": 8,
   "metadata": {},
   "outputs": [
    {
     "data": {
      "text/plain": [
       "8.75"
      ]
     },
     "execution_count": 8,
     "metadata": {},
     "output_type": "execute_result"
    }
   ],
   "source": [
    "def inverse_normal_cdf(p, mi=0, sigma=1, tolerance=0.00001):\n",
    "    '''Znajduje przybliżoną wartość odwrotności przy użyciu algorytmu wyszukiwania zwrotnego'''\n",
    "    if mi != 0 or sigma != 1:\n",
    "        return mi + sigma * inverse_normal_cdf(p, tolerance=tolerance)\n",
    "    \n",
    "    low_z, low_p = -10.0, 0\n",
    "    hi_z, hi_p = 10.0, 1\n",
    "    \n",
    "    while hi_z - low_z > tolerance:\n",
    "        mid_z = (low_z + hi_z) / 2\n",
    "        mid_p = normal_cdf(mid_z)\n",
    "        if mid_p < p:\n",
    "            '''Punkt środkowy znajduje się za nisko, szukaj nad nim'''\n",
    "            low_z, low_p = mid_z, mid_p\n",
    "        elif mid_p > p:\n",
    "            '''Punkt środkowy znajduje się za wysoko, szukaj pod nim'''\n",
    "            hi_z, hi_p = mid_z, mid_p\n",
    "        else:\n",
    "            break\n",
    "    return mid_z\n",
    "inverse_normal_cdf(1)"
   ]
  },
  {
   "cell_type": "markdown",
   "metadata": {},
   "source": [
    "### centralne twierdzenie graniczne"
   ]
  },
  {
   "cell_type": "code",
   "execution_count": 9,
   "metadata": {},
   "outputs": [
    {
     "data": {
      "text/plain": [
       "0"
      ]
     },
     "execution_count": 9,
     "metadata": {},
     "output_type": "execute_result"
    }
   ],
   "source": [
    "def bernouli_trial(p):\n",
    "    return 1 if random.random() < p else 0\n",
    "\n",
    "bernouli_trial(0.5)"
   ]
  },
  {
   "cell_type": "code",
   "execution_count": 10,
   "metadata": {},
   "outputs": [
    {
     "data": {
      "text/plain": [
       "0.37968345716399177"
      ]
     },
     "execution_count": 10,
     "metadata": {},
     "output_type": "execute_result"
    }
   ],
   "source": [
    "random.random()"
   ]
  },
  {
   "cell_type": "code",
   "execution_count": 11,
   "metadata": {},
   "outputs": [
    {
     "data": {
      "text/plain": [
       "895"
      ]
     },
     "execution_count": 11,
     "metadata": {},
     "output_type": "execute_result"
    }
   ],
   "source": [
    "def binominal(p, n):\n",
    "    return sum(bernouli_trial(p) for _ in range(n))\n",
    "binominal(0.9, 1000)"
   ]
  },
  {
   "cell_type": "code",
   "execution_count": 12,
   "metadata": {},
   "outputs": [
    {
     "data": {
      "image/png": "[encoded data removed]",
      "text/plain": [
       "<Figure size 432x288 with 1 Axes>"
      ]
     },
     "metadata": {
      "needs_background": "light"
     },
     "output_type": "display_data"
    }
   ],
   "source": [
    "from collections import Counter\n",
    "def make_hist(p, n, num_points):\n",
    "    \n",
    "    data = [binominal(p, n) for _ in range(num_points)]\n",
    "    \n",
    "    '''Przedstawia próbki dwumianu na wykresie słupkowym'''\n",
    "    histogram = Counter(data)\n",
    "    plt.bar([x - 0.4 for x in histogram.keys()], \n",
    "           [v / num_points for v in histogram.values()], \n",
    "           0.8, color='0.8')\n",
    "    mi = p * n\n",
    "    sigma = math.sqrt(n * p * (1 - p))\n",
    "    \n",
    "    '''Przybliżenie rozkładu normalnego na wykresie'''\n",
    "    xs = range(min(data), max(data) + 1)\n",
    "    ys = [normal_cdf(i + 0.5, mi, sigma) - normal_cdf(i - 0.5, mi, sigma)\n",
    "         for i in xs]\n",
    "    plt.plot(xs, ys)\n",
    "    plt.show()\n",
    "make_hist(0.9, 1000, 200)"
   ]
  },
  {
   "cell_type": "markdown",
   "metadata": {},
   "source": [
    "## Prawdopodobieństwo warunkowe"
   ]
  },
  {
   "cell_type": "code",
   "execution_count": 13,
   "metadata": {},
   "outputs": [
    {
     "name": "stdout",
     "output_type": "stream",
     "text": [
      "P(obydwoje | starsze): 0.4955375253549696\n",
      "P(obydwoje | którekolwiek): 0.3290678879310345\n"
     ]
    }
   ],
   "source": [
    "if __name__==\"__main__\":\n",
    "\n",
    "    both_girls = 0\n",
    "    older_girl = 0\n",
    "    either_girl = 0\n",
    "\n",
    "#     random.seed(0)\n",
    "    for _ in range(10000):\n",
    "        younger = random_kid()\n",
    "        older = random_kid()\n",
    "        if older == 'girl':\n",
    "            older_girl += 1\n",
    "        if older == 'girl' and younger == 'girl':\n",
    "            both_girls += 1\n",
    "        if older == 'girl'or younger == 'girl':\n",
    "            either_girl += 1\n",
    "    print(\"P(obydwoje | starsze):\", both_girls / older_girl)\n",
    "    print(\"P(obydwoje | którekolwiek):\", both_girls / either_girl)\n"
   ]
  },
  {
   "cell_type": "code",
   "execution_count": null,
   "metadata": {},
   "outputs": [],
   "source": []
  }
 ],
 "metadata": {
  "kernelspec": {
   "display_name": "Python 3",
   "language": "python",
   "name": "python3"
  },
  "language_info": {
   "codemirror_mode": {
    "name": "ipython",
    "version": 3
   },
   "file_extension": ".py",
   "mimetype": "text/x-python",
   "name": "python",
   "nbconvert_exporter": "python",
   "pygments_lexer": "ipython3",
   "version": "3.7.3"
  }
 },
 "nbformat": 4,
 "nbformat_minor": 2
}
